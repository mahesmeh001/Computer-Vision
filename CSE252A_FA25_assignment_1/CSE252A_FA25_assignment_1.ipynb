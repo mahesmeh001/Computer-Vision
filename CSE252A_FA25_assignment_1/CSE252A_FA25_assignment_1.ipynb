{
  "cells": [
    {
      "cell_type": "markdown",
      "metadata": {
        "id": "9ij6J1P4aVAp"
      },
      "source": [
        "# CSE 252A Computer Vision I, FA 2025 - Assignment 1"
      ]
    },
    {
      "cell_type": "markdown",
      "metadata": {
        "id": "TU-ptFHRaVAq"
      },
      "source": [
        "Instructor: Ben Ochoa\n",
        "\n",
        "Assigment due: Wed, Oct 22, 11:59 PM"
      ]
    },
    {
      "cell_type": "markdown",
      "metadata": {
        "id": "rqvAgUnKaVAr"
      },
      "source": [
        "**Name:**\n",
        "\n",
        "**PID:**"
      ]
    },
    {
      "cell_type": "markdown",
      "metadata": {},
      "source": [
        "## Instructions\n",
        "\n",
        "Please answer the questions below using Python in the attached Jupyter notebook and follow the guidelines below:\n",
        "\n",
        "- This assignment must be completed **individually**. For more details, please follow the Academic Integrity Policy and Collaboration Policy on [Canvas](https://canvas.ucsd.edu).\n",
        "\n",
        "- All the solutions must be written in this Jupyter notebook.\n",
        "\n",
        "- You may use basic algebra packages (e.g. `NumPy`, `SciPy`, etc) but you are not allowed to use the packages that directly solve the problems. Feel free to ask the instructor and the teaching assistants if you are unsure about the packages to use.\n",
        "\n",
        "- It is highly recommended that you begin working on this assignment early.\n",
        "\n",
        "- You must **submit 3 files: the Notebook, the PDF and the python file** (i.e. the `.ipynb`, the `.pdf` and the `.py` files) on Gradescope. **You must mark each problem on Gradescope in the pdf.**\n",
        "    - To convert the notebook to PDF, you can choose one way below:\n",
        "\n",
        "        - You may first export the notebook as HTML, and then print the web page as PDF\n",
        "\n",
        "            - e.g., in Chrome: File $\\rightarrow$ Save and Export Notebook as $\\rightarrow$ \"HTML\"; or in VScode: Open the Command Palette by pressing Ctrl+Shift+P (Windows/Linux) or Cmd+Shift+P (macOS), search for Jupyter: Export to HTML\n",
        "    \n",
        "            - Open the saved web page and right click $\\rightarrow$ Print... $\\rightarrow$ Choose \"Destination: Save as PDF\" and click \"Save\")\n",
        "\n",
        "        - If you have XeTex installed on your machine, you may directly export the notebook as PDF: e.g., in Chrome, File $\\rightarrow$ Save and Export Notebook as $\\rightarrow$ \"PDF\"\n",
        "\n",
        "        - You may use [nbconvert](https://nbconvert.readthedocs.io/en/latest/install.html) to convert the ipynb file to pdf using the following command\n",
        "        `jupyter nbconvert --allow-chromium-download --to webpdf filename.ipynb`\n",
        "\n",
        "    - To convert the notebook to python file, you can choose one way below:\n",
        "\n",
        "        - You may directly export the notebook as py: e.g., in Chrome, File $\\rightarrow$ Save and Export Notebook as $\\rightarrow$ \"Executable script\"; or in VScode: Open the Command Palette and search for Jupyter: Export to Python Script\n",
        "\n",
        "        - You may use [nbconvert](https://nbconvert.readthedocs.io/en/latest/install.html) to convert the ipynb file to python file using the following command\n",
        "    `jupyter nbconvert --to script filename.ipynb --output output_filename.py`\n",
        "\n",
        "- Please make sure the content in each cell (e.g. code, output images, printed results, etc.) are clearly visible and are not cut-out or partially cropped in your final PDF file.\n",
        "\n",
        "- While submitting on gradescope, please make sure to assign the relevant pages in your PDF submission for each problem.\n",
        "\n",
        "**Late Policy:** Assignments submitted late will receive a 15% grade reduction for each 12 hours late (i.e., 30% per day). Assignments will not be accepted 72 hours after the due date. If you require an extension (for personal reasons only) to a due date, you must request one as far in advance as possible. Extensions requested close to or after the due date will only be granted for clear emergencies or clearly unforeseeable circumstances."
      ]
    },
    {
      "cell_type": "markdown",
      "metadata": {
        "id": "p1xVETzOaVAr"
      },
      "source": [
        "## Problem 1: Geometry (16 points)\n",
        "\n",
        "**Note:** The solution **must be** typed using Markdown or Latex, handwritten answers will not be accepted.\n",
        "\n",
        "Consider a line in the 2D plane, whose equation is given by $a \\tilde{x} + b \\tilde{y} + c = 0$, where $\\boldsymbol{\\mathrm{l}} = (a, b, c)^\\top$ and $\\boldsymbol{\\mathrm{x}} = (\\tilde{x}, \\tilde{y}, 1)^\\top$. Noticing that $\\boldsymbol{\\mathrm{x}}$ is a homogeneous representation of $\\tilde{\\boldsymbol{\\mathrm{x}}} = (\\tilde{x}, \\tilde{y})^\\top$, we can view $\\boldsymbol{\\mathrm{l}}$ as a homogeneous representation of the line $a \\tilde{x} + b \\tilde{y} + c = 0$.  We see that the line is also defined up to a scale since $(a, b, c)^\\top$ and  $\\lambda (a, b, c)^\\top$ with $\\lambda \\neq 0$ represents the same line.\n",
        "\n",
        "\n",
        "- 1.1 Prove $\\boldsymbol{\\mathrm{x}}^\\top \\boldsymbol{\\mathrm{l}} + \\boldsymbol{\\mathrm{l}}^\\top \\boldsymbol{\\mathrm{x}} = 0$, if a point $\\boldsymbol{\\mathrm{x}}$ in homogeneous coordinates lies on the homogeneous line $\\boldsymbol{\\mathrm{l}}$. [4 points]"
      ]
    },
    {
      "cell_type": "markdown",
      "metadata": {
        "id": "gimvIfQGaVAr"
      },
      "source": [
        "Answer: \n",
        "\n",
        "$\\mathbf{x}^\\top \\mathbf{l} + \\mathbf{l}^\\top \\mathbf{x} = [\\hat{x}, \\hat{y}, 1][a, b, c]^\\top + [a, b, c][\\hat{x}, \\hat{y}, 1]^\\top = a\\hat{x} + b\\hat{y} + c + a\\hat{x} + b\\hat{y} + c = 2(a\\hat{x} + b\\hat{y} + c)$.\n",
        "Since we are told that $\\mathbf{x}$ lies on the line $\\mathbf{l}$, it satisfies the line equation $a\\hat{x} + b\\hat{y} + c = 0$.\n",
        "Thus, $2(a x + b y + c) = 2(0) = 0$.\n",
        "Therefore, $\\mathbf{x}^\\top \\mathbf{l} + \\mathbf{l}^\\top \\mathbf{x} = 0$."
      ]
    },
    {
      "cell_type": "markdown",
      "metadata": {
        "id": "ILWNYYHDaVAs"
      },
      "source": [
        "- 1.2 What is the line, in homogenous coordinates, joining the inhomogeneous points $\\tilde{\\boldsymbol{\\mathrm{x}}}_1 = (3, 2)^\\top$ and $\\tilde{\\boldsymbol{\\mathrm{x}}}_2 = (4,-1)^\\top$. [4 points]"
      ]
    },
    {
      "cell_type": "markdown",
      "metadata": {
        "id": "6W5Zqh2XaVAs"
      },
      "source": [
        "Answer:\n",
        "\n",
        "First we need to convert the points to homogeneous coordinates:  \n",
        "$x_1 = [3, 2, 1]^T$, $x_2 = [4, -1, 1]^T$.\n",
        "\n",
        "Then the line joining these points is given by the cross product:\n",
        "\n",
        "$$\n",
        "l = x_1 \\times x_2 = \n",
        "\\big( 2\\cdot1 - 1\\cdot(-1),\\; -(3\\cdot1 - 1\\cdot4),\\; 3\\cdot(-1) - 2\\cdot4 \\big) = (3, 1, -11)\n",
        "$$\n",
        "\n",
        "The homogeneous line equation is: $3x + y - 11 = 0$\n"
      ]
    },
    {
      "cell_type": "markdown",
      "metadata": {
        "id": "ra-ZT98naVAs"
      },
      "source": [
        "- 1.3 Consider the intersection of two lines $\\boldsymbol{\\mathrm{l}}_1$ and $\\boldsymbol{\\mathrm{l}}_2$. Prove that the homogeneous point of intersection, $\\boldsymbol{\\mathrm{x}}$, of two homogeneous lines $\\boldsymbol{\\mathrm{l}}_1$ and $\\boldsymbol{\\mathrm{l}}_2$ is $\\boldsymbol{\\mathrm{x}} = \\boldsymbol{\\mathrm{l}}_1 \\times \\boldsymbol{\\mathrm{l}}_2$, where $\\times$ is the vector cross product. [4 points] "
      ]
    },
    {
      "cell_type": "markdown",
      "metadata": {
        "id": "M0fNbGZCaVAs"
      },
      "source": [
        "Answer:\n",
        "\n",
        "We know that a point lies on a line if $l \\cdot x = 0$. Therefore, the intersection point is the point that satisfies both $l_1 \\cdot x = 0$ and $l_2 \\cdot x = 0$.  \n",
        "\n",
        "Now, we need to show that this same $x$ is the cross product. To do this, we can plug in the cross product into both equations:  \n",
        "\n",
        "$l_1 \\cdot (l_1 \\times l_2) = 0$ and $l_2 \\cdot (l_1 \\times l_2) = 0$.  \n",
        "\n",
        "Now consider $x = l_1 \\times l_2$. By definition of cross product, $x$ is orthogonal to both $l_1$ and $l_2$. Any two lines that are orthogonal necessarily have a dot product of 0. Therefore the conditions $l_1 \\cdot (l_1 \\times l_2) = 0$ and $l_2 \\cdot (l_1 \\times l_2) = 0$ are both satisfied. This is what we wanted to show, demonstrating that $x = l_1 \\times l_2$ is the point that intersects both lines.\n",
        "\n"
      ]
    },
    {
      "cell_type": "markdown",
      "metadata": {
        "id": "70VFDjpPaVAs"
      },
      "source": [
        "- 1.4 Consider the two lines $\\tilde{x} - 3 \\tilde{y} + 1 = 0$ and $4 \\tilde{x} - 2 \\tilde{y} - 2 = 0$. Find their intersection in homogeneous coordinates. Next, convert this homogeneous point $\\boldsymbol{\\mathrm{x}}$ to inhomogeneous coordinates $\\tilde{\\boldsymbol{\\mathrm{x}}}$ and report the 2D point of intersection. [4 points]"
      ]
    },
    {
      "cell_type": "markdown",
      "metadata": {
        "id": "NF0_Gd_AaVAs"
      },
      "source": [
        "Answer:\n",
        "\n",
        "First, lets calculate their intersection point in homogeneous coordinates. i could use cross product here, but simple substitution is easier:\n",
        "\n",
        "x = 3y - 1,  \n",
        "4(3y - 1) - 2y - 2 = 0,  \n",
        "10y - 6 = 0,  \n",
        "y = 6/10 = 0.6,  \n",
        "x = 3(0.6) - 1 = 0.8.  \n",
        "\n",
        "In homogeneous coordinates this is (0.6, 0.8, 1).\n",
        "\n",
        "Now to convert to inhomogeneous coordinates, we have to do: (x, y, z) → (x/z, y/z).\n",
        "\n",
        "Therefore the homogeneous coordinate point of intersection is (0.6/1, 0.8/1) = (0.6, 0.8).\n"
      ]
    },
    {
      "cell_type": "markdown",
      "metadata": {
        "id": "Ce2UBiTOaVAt"
      },
      "source": [
        "## Problem 2: Image Formation and Rigid Body Transformations (20 points)\n",
        "\n",
        "In  this  problem  we  will  practice  rigid  body  transformations  and  image  formations  through  the projective camera model. The goal will be to image the following four points\n",
        "$\\tilde{\\boldsymbol{\\mathrm{X}}}_1 = (-4, -7, 2)^\\top$,  $\\tilde{\\boldsymbol{\\mathrm{X}}}_2 = (4, -7, 2)^\\top$, $\\tilde{\\boldsymbol{\\mathrm{X}}}_3 = (4, 7, 2)^\\top$, and $\\tilde{\\boldsymbol{\\mathrm{X}}}_4 = (-4, 7, 2)^\\top$ in the world coordinate frame. First, recall the following formula for rigid body transformation\n",
        "$$\n",
        "\\tilde{\\boldsymbol{\\mathrm{X}}}_\\text{cam} = \\mathtt{R} \\tilde{\\boldsymbol{\\mathrm{X}}} + \\boldsymbol{\\mathrm{t}}\n",
        "$$\n",
        "Where $\\tilde{\\boldsymbol{\\mathrm{X}}}_\\text{cam}$ is a point in the camera coordinate system, $\\tilde{\\boldsymbol{\\mathrm{X}}}$ is a point in the world coordinate frame, and $\\mathtt{R}$ and $\\boldsymbol{\\mathrm{t}}$ are the rotation and translation that transform points from the world coordinate frame to the camera coordinate frame. Together, $\\mathtt{R}$ and $\\boldsymbol{\\mathrm{t}}$ are the $\\textit{extrinsic}$ camera parameters. Once transformed to the camera coordinate frame, the points can be imaged using the 3-by-3 camera calibration matrix $\\mathtt{K}$, which embodies the $\\textit{intrinsic}$ camera parameters, and the canonical projection matrix $[\\mathtt{I} \\,|\\, \\boldsymbol{\\mathrm{0}}]$. Given $\\mathtt{K}, \\mathtt{R}$, and $\\boldsymbol{\\mathrm{t}}$, the image of a point $\\tilde{\\boldsymbol{\\mathrm{X}}}$ is $\\boldsymbol{\\mathrm{x}} = \\mathtt{K} [\\mathtt{I} \\,|\\, \\boldsymbol{\\mathrm{0}}] \\boldsymbol{\\mathrm{X}}_\\text{cam} = \\mathtt{K} [\\mathtt{R} \\,|\\, \\boldsymbol{\\mathrm{t}}]\\boldsymbol{\\mathrm{X}}$, where the homogeneous point $\\boldsymbol{\\mathrm{X}}_\\text{cam} = (\\tilde{\\boldsymbol{\\mathrm{X}}}_\\text{cam}^\\top, 1)^\\top$ and $\\boldsymbol{\\mathrm{X}} = (\\tilde{\\boldsymbol{\\mathrm{X}}}^\\top, 1)^\\top$. We will consider four different settings of focal length, viewing angles and camera positions. For each of the settings, calculate:\n",
        "\n",
        "a). The matrix $[\\mathtt{R} \\,|\\, \\boldsymbol{\\mathrm{t}}]$\n",
        "\n",
        "b). The camera calibration matrix $\\mathtt{K}$\n",
        "\n",
        "c). The image of the four vertices and plot using the supplied **plot_points** function\n",
        "\n",
        "Your output should look something like the following image (Your output values might not match, this is just an example)\n",
        "\n",
        "<!--- ![fig3](fig3.png) --->\n",
        "<!--- The previous results in export to pdf errors on some systems but the following does not --->\n",
        "<img src=\"fig3.png\">\n",
        "\n",
        "The four settings are:\n",
        "\n",
        "1. **[No rigid body transformation].** Focal  length  =  2. The  optical  axis  of  the  camera  is aligned with the $Z$-axis.\n",
        "2. **[Translation].** Focal  length  =  2. $\\boldsymbol{\\mathrm{t}} = (0, 0, 2)^\\top$. The optical axis of the camera is aligned with the $Z$-axis.\n",
        "3. **[Translation and Rotation].** Focal length = 2. $\\mathtt{R}$ embodies a 30 degree rotation about the $Z$-axis. $\\boldsymbol{\\mathrm{t}} = (0, 1, 2)^\\top$.\n",
        "4. **[Translation and Rotation, long distance].** Focal length = 4. $\\mathtt{R}$ embodies a 45 degree rotation about the $Z$-axis and then a 30 degree rotation about the $X$-axis. $\\boldsymbol{\\mathrm{t}} = (0, 0, 3)^\\top$.\n",
        "\n",
        "We will not use a full camera calibration matrix (e.g., that maps centimeters to pixels, and specifies the coordinates of the principal point),  but  only  parameterize  this with the  focal\n",
        "length $f$.  In other words:  the only parameter in the camera calibration matrix under the perspective assumption is $f$.\n",
        "\n",
        "For all the four cases, include a image like above.  Note that the axis are the same for each row, to facilitate comparison between the two camera models. Note: the angles and offsets used to generate these plots may be different from those in the problem statement, it's just to illustrate how to report your results.\n",
        "\n",
        "Also, Explain why you observe any distortions in the projection, if any, under this model."
      ]
    },
    {
      "cell_type": "markdown",
      "metadata": {
        "id": "pOvkdkJcaVAt"
      },
      "source": [
        "$\\textbf{2.1 Coordinate convertion and projection [6 points]}$"
      ]
    },
    {
      "cell_type": "code",
      "execution_count": 29,
      "metadata": {
        "id": "gou2V9svaVAt"
      },
      "outputs": [],
      "source": [
        "import numpy as np\n",
        "import matplotlib.pyplot as plt\n",
        "import math\n",
        "\n",
        "\n",
        "def to_homog(points_inhomog):\n",
        "    \"\"\" convert points from inhomogeneous to homogeneous\n",
        "\n",
        "    inputs:\n",
        "    points_inhomog is a dxn matrix where n is the number of d dimensional inhomogeneous points\n",
        "    (e.g., d = 3 for 3D inhomogeneous points)\n",
        "\n",
        "    outputs:\n",
        "    homo_points is a (d+1)xn matrix of n d-dimensional homogeneous points\n",
        "    \"\"\"\n",
        "    #### Write your code here. ####\n",
        "\n",
        "    # for each point in points_inhomog, we need to add a 1 to the end of the point\n",
        "    homo_points = np.vstack((points_inhomog, np.ones((1, points_inhomog.shape[1]))))\n",
        "    \n",
        "    return homo_points\n",
        "\n",
        "\n",
        "def from_homog(points_homog):\n",
        "    \"\"\"\n",
        "    convert points from homogeneous to inhomogeneous\n",
        "\n",
        "    inputs:\n",
        "    points_homog is a (d+1)xn matrix of n d-dimensional homogeous points (e.g., d = 2\n",
        "    for 2D homogeneous points)\n",
        "\n",
        "    outputs:\n",
        "    inhomo_points is a dxn matrix of n d-dimensional inhomogeous points\n",
        "    \"\"\"\n",
        "    #### Write your code here. ####\n",
        "\n",
        "    inhomo_points = np.zeros((points_homog.shape[0]-1, points_homog.shape[1]))\n",
        "    # for each point in points_homog, we need to divide each element by the last element\n",
        "    for i in range(points_homog.shape[1]):\n",
        "        last_element = points_homog[-1, i]\n",
        "        inhomo_points[:, i] = points_homog[:-1, i] / last_element\n",
        "\n",
        "    return inhomo_points\n",
        "\n",
        "\n",
        "def project_points(M_int, M_ext, pts):\n",
        "    \"\"\"\n",
        "    project 3D inhomogeneous points to 2D inhomogeneous points\n",
        "\n",
        "    inputs:\n",
        "       M_int - 3x3 intrinsic camera matrix\n",
        "       M_ext - 3x4 extrinsic camera matrix\n",
        "       pts - 3xn inhomogeneous points\n",
        "\n",
        "    outputs:\n",
        "       pts_2d - 2xn inhomogeneous points\n",
        "    \"\"\"\n",
        "\n",
        "    #### Write your code here. ####\n",
        "    \n",
        "\n",
        "\n",
        "    # to project the points, we need to do intrinsic *  extrinsic * points\n",
        "\n",
        "    # since M_ext is 3x4, we have to homogenize the points first\n",
        "    pts_homog = to_homog(pts)\n",
        "\n",
        "    projected_points = M_int @ M_ext @ pts_homog\n",
        "\n",
        "    # now we need to go back to inhomogeneous points\n",
        "    pts_2d = from_homog(projected_points)\n",
        "\n",
        "    return pts_2d"
      ]
    },
    {
      "cell_type": "markdown",
      "metadata": {
        "id": "yC8rpiBqaVAt"
      },
      "source": [
        "$\\textbf{2.2 Compute the intrisic and extrinsic matrices [6 points]}$"
      ]
    },
    {
      "cell_type": "code",
      "execution_count": 30,
      "metadata": {
        "id": "qPTlPiOPaVAt"
      },
      "outputs": [],
      "source": [
        "def intrinsic_cam_mat(f):\n",
        "    \"\"\"\n",
        "    K = [f 0 0\n",
        "         0 f 0\n",
        "         0 0 1]\n",
        "    \"\"\"\n",
        "    # given the focal length, compute the intrinsic camera matrix\n",
        "\n",
        "    #### Write your code here. ####\n",
        "\n",
        "    int_cam_mat = np.array([[f, 0, 0], [0, f, 0], [0, 0, 1]])\n",
        "    return int_cam_mat\n",
        "\n",
        "def extrinsic_cam_mat(angles, t, order='xyz'):\n",
        "    \"\"\"\n",
        "        ext_cam_mat = [R|t]\n",
        "    \"\"\"\n",
        "    # Compute the extrinsic camera matrix\n",
        "    #\n",
        "    # inputs:\n",
        "    #    angles - a tuple of angles (alpha, beta, gamma), representing the rotation\n",
        "    #    angles around x-axis, y-axis, and z-axis repectively in radians.\n",
        "    #    t - a 3x1 translation vector\n",
        "    #\n",
        "    # outputs:\n",
        "    #    ext_cam_mat - 3x4 extrinsic camera matrix\n",
        "\n",
        "\n",
        "    #### Write your code here. ####\n",
        "    alpha = angles[0]\n",
        "    rot_x = np.array([\n",
        "        [1, 0, 0],\n",
        "        [0, np.cos(alpha), -np.sin(alpha)],\n",
        "        [0, np.sin(alpha), np.cos(alpha)]\n",
        "    ])\n",
        "    beta = angles[1]\n",
        "    rot_y = np.array([\n",
        "        [np.cos(beta), 0, np.sin(beta)],\n",
        "        [0, 1, 0],\n",
        "        [-np.sin(beta), 0, np.cos(beta)]\n",
        "    ])\n",
        "    gamma = angles[2]\n",
        "    rot_z = np.array([\n",
        "        [np.cos(gamma), -np.sin(gamma), 0],\n",
        "        [np.sin(gamma), np.cos(gamma), 0],\n",
        "        [0, 0, 1]\n",
        "    ])\n",
        "    \n",
        "\n",
        "\n",
        "    # rotation is order dependent:\n",
        "    R = np.eye(3)\n",
        "    for axis in reversed(order):\n",
        "        if axis == 'x':\n",
        "            R = rot_x @ R\n",
        "        elif axis == 'y':\n",
        "            R = rot_y @ R\n",
        "        elif axis == 'z':\n",
        "            R = rot_z @ R\n",
        "    \n",
        "\n",
        "    t = np.array(t).reshape(3,1) # to ensure its a column vector\n",
        "\n",
        "    ext_cam_mat = np.hstack((R, t))\n",
        "    \n",
        "    return ext_cam_mat\n",
        "\n"
      ]
    },
    {
      "cell_type": "markdown",
      "metadata": {
        "id": "oL7HSQcgaVAt"
      },
      "source": [
        "$\\textbf{2.3 Define the 4 cameras [8 points]}$"
      ]
    },
    {
      "cell_type": "code",
      "execution_count": 34,
      "metadata": {
        "id": "gjDOJrk4aVAu"
      },
      "outputs": [],
      "source": [
        "# Change the three matrices for the four cases as described in the problem\n",
        "# in the four camera functions given below. Make sure that we can see the formula\n",
        "# (if one exists) being used to fill in the matrices. Feel free to document with\n",
        "# comments any thing you feel the need to explain.\n",
        "\n",
        "\n",
        "\"\"\"\n",
        "Reacall: \n",
        "The four settings are:\n",
        "\n",
        "1. **[No rigid body transformation].** Focal  length  =  2. The  optical  axis  of  the  camera  is aligned with the $Z$-axis.\n",
        "2. **[Translation].** Focal  length  =  2. $\\boldsymbol{\\mathrm{t}} = (0, 0, 2)^\\top$. The optical axis of the camera is aligned with the $Z$-axis.\n",
        "3. **[Translation and Rotation].** Focal length = 2. $\\mathtt{R}$ embodies a 30 degree rotation about the $Z$-axis. $\\boldsymbol{\\mathrm{t}} = (0, 1, 2)^\\top$.\n",
        "4. **[Translation and Rotation, long distance].** Focal length = 4. $\\mathtt{R}$ embodies a 45 degree rotation about the $Z$-axis and then a 30 degree rotation about the $X$-axis. $\\boldsymbol{\\mathrm{t}} = (0, 0, 3)^\\top$.\n",
        "\"\"\"\n",
        "\n",
        "# IMPORTANT: recall radians = degrees * (pi/180)\n",
        "\n",
        "def camera1():\n",
        "    #### Write your code here. ####\n",
        "    \n",
        "    # no rigid body transformation, optical axis is aligned with Z-axis\n",
        "    f=2\n",
        "    P_int_proj = intrinsic_cam_mat(f)\n",
        "    rotation_angles = (0,0,0)\n",
        "    translation = np.array([[0], [0], [0]]) \n",
        "    P_ext = extrinsic_cam_mat(rotation_angles, translation)\n",
        "    return P_int_proj, P_ext\n",
        "\n",
        "def camera2():\n",
        "    #### Write your code here. ####\n",
        "    # focal length = 2, translation = (0,0,2), optical axis is aligned with Z-axis\n",
        "    f=2\n",
        "    P_int_proj = intrinsic_cam_mat(f)\n",
        "    rotation_angles = (0,0,0)\n",
        "    translation = np.array([[0], [0], [2]]) \n",
        "    P_ext = extrinsic_cam_mat(rotation_angles, translation)\n",
        "\n",
        "    return P_int_proj, P_ext\n",
        "\n",
        "def camera3():\n",
        "    #### Write your code here. ####\n",
        "    # focal length = 2, translation = (0,1,2), rotation = 30 degrees about Z-axis\n",
        "    f=2\n",
        "    P_int_proj = intrinsic_cam_mat(f)\n",
        "    z_angle = 30*np.pi/180\n",
        "    rotation_angles = (0,0,z_angle)\n",
        "    translation = np.array([[0], [1], [2]]) \n",
        "    P_ext = extrinsic_cam_mat(rotation_angles, translation)\n",
        "    \n",
        "    return P_int_proj, P_ext\n",
        "\n",
        "def camera4():\n",
        "    #### Write your code here. ####\n",
        "    # focal length = 4, translation = (0,0,3), rotation = 45 degrees about Z-axis and then 30 degrees about X-axis, translation = (0,0,3)\n",
        "    f=4\n",
        "    P_int_proj = intrinsic_cam_mat(f)\n",
        "    z_angle = 45*np.pi/180\n",
        "    x_angle = 30*np.pi/180\n",
        "    rotation_angles = (x_angle, 0, z_angle)\n",
        "    translation = np.array([[0], [0], [3]]) \n",
        "    P_ext = extrinsic_cam_mat(rotation_angles, translation, order='zx')\n",
        "    \n",
        "    return P_int_proj, P_ext\n",
        "\n"
      ]
    },
    {
      "cell_type": "markdown",
      "metadata": {
        "id": "ScNkUSrJaVAu"
      },
      "source": [
        "$\\textbf{Plot the 4 images of the 4 vertices}$"
      ]
    },
    {
      "cell_type": "code",
      "execution_count": 35,
      "metadata": {
        "colab": {
          "base_uri": "https://localhost:8080/",
          "height": 707
        },
        "id": "cujazJVcaVAu",
        "outputId": "108d4616-3621-4a44-dbae-70070cb0480d"
      },
      "outputs": [
        {
          "data": {
            "image/png": "[encoded data removed]",
            "text/plain": [
              "<Figure size 1000x700 with 4 Axes>"
            ]
          },
          "metadata": {},
          "output_type": "display_data"
        }
      ],
      "source": [
        "#######################################################\n",
        "# test code. Do not modify\n",
        "#######################################################\n",
        "\n",
        "def plot_points(ax, points, title='', style='.-r', axis=[]):\n",
        "    inds = list(range(points.shape[1]))+[0]\n",
        "    ax.plot(points[0,inds], points[1,inds],style)\n",
        "    if title:\n",
        "        ax.set_title(title)\n",
        "    if axis:\n",
        "        ax.axis('scaled')\n",
        "        #plt.axis(axis)\n",
        "\n",
        "def main():\n",
        "    point1 = np.array([[-4,-7,2]]).T\n",
        "    point2 = np.array([[4,-7,2]]).T\n",
        "    point3 = np.array([[4,7,2]]).T\n",
        "    point4 = np.array([[-4,7,2]]).T\n",
        "    points = np.hstack((point1,point2,point3,point4))\n",
        "\n",
        "    fig = plt.figure(figsize=(10,7))\n",
        "    for i, camera in enumerate([camera1, camera2, camera3, camera4]):\n",
        "        M_int_proj, M_ext = camera()\n",
        "        ax = fig.add_subplot(2,2,i+1)\n",
        "        plot_points(ax, project_points(M_int_proj, M_ext, points), title='Camera %d Projective'%(i+1), axis=[-1,1,-1,1])\n",
        "    plt.tight_layout()\n",
        "    plt.show()\n",
        "\n",
        "main()"
      ]
    },
    {
      "cell_type": "markdown",
      "metadata": {
        "id": "X0u94DQlaVAu"
      },
      "source": [
        "**Explain why you observe any distortions in the projection, if any, under this model.**\n",
        "\n",
        "(Here distortion means the perspective effect that causes the projected rectangle to appear skewed or trapezoidal.)\n",
        "\n",
        "Answer:\n",
        "\n",
        "We observe distortions in the projection because the angle at which we view the rectangle has changed, and so how it appears to us when projected down to 2d would changes accordingly. In real life, if you are looking at a piece of paper from close to any edge, it would appear trapezoidal as well. "
      ]
    },
    {
      "cell_type": "markdown",
      "metadata": {
        "id": "gq25R6ZDaVAu"
      },
      "source": [
        "## Problem 3: Surface Rendering [20 pts]\n",
        "\n",
        "In this portion of the assignment we will be exploring different methods of approximating local reflectance of\n",
        "objects in a scene. This section of the homework will be an exercise in rendering surfaces. Here, you need use the surface normals and the masks from the provided pickle files, with various light sources, different materials, and using a number of reflectance models. For the sake of simplicity, multiple reflections of light rays, and occlusion of light rays due to object/scene can be ignored. "
      ]
    },
    {
      "cell_type": "markdown",
      "metadata": {
        "id": "FMDKfDNeaVAu"
      },
      "source": [
        "### 3.1 Plot the normals [6 pts]\n",
        "\n",
        "In this part, you are required to plot the normals.\n",
        "\n",
        "The data needed for this problem are normals and masks of two objects: a sphere and a pear.\n",
        "\n",
        "**Normals** are stored in `normals2.pickle`. This file contains a list of 4 arrays:\n",
        "1) Normal Vectors for the sphere with specularities removed (Diffuse component)  \n",
        "2) Normal Vector for the sphere (Original)   \n",
        "3) Normal Vectors for the pear with specularities removed (Diffuse component)  \n",
        "4) Normal vectors for the pear (Original)\n",
        "\n",
        "**Masks** are stored in `masks.pkl`. This file contains a list that stores two arrays:\n",
        "1) Mask of the sphere \n",
        "2) Mask of the pear\n",
        "\n",
        "A mask is a $H \\times W$ matrix with each element being either 1 or 0, indicating if a pixel at given location is sphere/pear or not. It is provided for you to remove the background of the rendered sphere/pear. \n",
        "\n",
        "Please implement the function `plot_normals` with background removed, and plot the normals using this function. You can use subplots to display the two figures — the diffuse object normal and the original object normal — side by side. (Refer to the usage in Problem 2). To convert normal values to colors for display, you must use `normal2rgb` function. \n",
        "\n",
        "(Don’t worry about pickle, we’ve prepared the code to read the files.)"
      ]
    },
    {
      "cell_type": "code",
      "execution_count": 9,
      "metadata": {
        "id": "znNwwmQiaVAu"
      },
      "outputs": [],
      "source": [
        "import numpy as np\n",
        "import matplotlib.pyplot as plt\n",
        "###############################################\n",
        "# Don't modify this function\n",
        "###############################################\n",
        "def normal2rgb(normals):\n",
        "    return (normals + 1) / 2\n",
        "\n",
        "def plot_normals(diffuse_normals, original_normals, mask):\n",
        "    \"\"\"\n",
        "    Plot the normals using subplots. The first subplot is the diffuse normals, \n",
        "    and the second subplot is the original normals. You must use normal2rgb to \n",
        "    convert the normals to RGB format before plotting.\n",
        "    Inputs:\n",
        "    - diffuse_normals: H x W x 3 array of diffuse normals\n",
        "    - original_normals: H x W x 3 array of original normals\n",
        "    - mask: H x W array of binary mask (1 for object, 0 for background)\n",
        "    \"\"\"\n",
        "    #### Write your code here. ####\n",
        "\n",
        "    # first, get normals in rgb format\n",
        "    diffuse_normals_rgb = normal2rgb(diffuse_normals)\n",
        "    original_normals_rgb = normal2rgb(original_normals)\n",
        "\n",
        "    # then, remove background\n",
        "    diffuse_normals_rgb = diffuse_normals_rgb * mask[:, :, np.newaxis]\n",
        "    original_normals_rgb = original_normals_rgb * mask[:, :, np.newaxis]\n",
        "    \n",
        "    # then, plot the normals\n",
        "    plt.subplot(2, 1, 1)\n",
        "    plt.imshow(diffuse_normals_rgb)\n",
        "    plt.subplot(2, 1, 2)\n",
        "    plt.imshow(original_normals_rgb)\n",
        "    plt.show()"
      ]
    },
    {
      "cell_type": "code",
      "execution_count": 10,
      "metadata": {
        "colab": {
          "base_uri": "https://localhost:8080/",
          "height": 974
        },
        "id": "mlTS_8k8aVAv",
        "outputId": "19ee0640-d559-4d0c-bbb2-cf88ffddb61b"
      },
      "outputs": [
        {
          "data": {
            "image/png": "[encoded data removed]",
            "text/plain": [
              "<Figure size 640x480 with 2 Axes>"
            ]
          },
          "metadata": {},
          "output_type": "display_data"
        },
        {
          "data": {
            "image/png": "[encoded data removed]",
            "text/plain": [
              "<Figure size 640x480 with 2 Axes>"
            ]
          },
          "metadata": {},
          "output_type": "display_data"
        }
      ],
      "source": [
        "#Plot the normals for the sphere and pear for both the normal and diffuse components.\n",
        "#1 : Load the different normals\n",
        "import pickle\n",
        "\n",
        "with open('normals2.pickle', 'rb') as f:\n",
        "    data_normal = pickle.load(f)\n",
        "\n",
        "with open('masks.pkl', 'rb') as h:\n",
        "    data_mask = pickle.load(h)\n",
        "\n",
        "#2 : Plot the normals using plot_normals\n",
        "# What do you observe? What are the differences between the diffuse component and the original images shown?\n",
        "# (Just something to think about, no need to provide an answer)\n",
        "\n",
        "#### Write your code here. ####\n",
        "plot_normals(data_normal[0], data_normal[1], data_mask[0])\n",
        "plot_normals(data_normal[2], data_normal[3], data_mask[1])\n"
      ]
    },
    {
      "cell_type": "markdown",
      "metadata": {
        "id": "Uv-NFsHkaVAv"
      },
      "source": [
        "### 3.2 Lambertian model [4 pts]"
      ]
    },
    {
      "cell_type": "markdown",
      "metadata": {
        "id": "OhSFGLHHaVAv"
      },
      "source": [
        "### Lambertian Reflectance\n",
        "\n",
        "One of the simplest models available to render 3D objections with reflectance is the Lambertian model. This\n",
        "model finds the apparent brightness to an observer using the unit direction of the light source $\\hat{\\boldsymbol{\\mathrm{s}}}$ and the unit normal\n",
        "vector on the surface of the object $\\hat{\\boldsymbol{\\mathrm{n}}}$. The intensity of the light reflected from the surace with\n",
        "a single light source is found using the following relationship:\n",
        "\n",
        "$$e(x,y) = a(x,y) \\boldsymbol{\\mathrm{C}} \\max(0, \\hat{\\boldsymbol{\\mathrm{n}}}^\\top \\boldsymbol{\\mathrm{s}})$$\n",
        "\n",
        "$$\\boldsymbol{\\mathrm{s}} = s_0 \\hat{\\boldsymbol{\\mathrm{s}}}$$\n",
        "\n",
        "where, $a(x,y)$ is the albedo of the surface facet imaged by the pixel, $\\boldsymbol{\\mathrm{C}}$ is the light source color, $s_0$ is the intensity of the light source, and $\\hat{\\boldsymbol{\\mathrm{s}}}$ is the unit direction to the light source from the surface facet imaged by the pixel.\n",
        "\n",
        "Fill in your implementation for the rendered image using the lambertian model. You only need to support one light direction."
      ]
    },
    {
      "cell_type": "code",
      "execution_count": 9,
      "metadata": {
        "id": "wwNeZoUhaVAv"
      },
      "outputs": [],
      "source": [
        "# Normalizes the image to be between 0 and 1\n",
        "def normalize(img):\n",
        "    maxi = img.max()\n",
        "    mini = img.min()\n",
        "    return (img - mini)/(maxi-mini)"
      ]
    },
    {
      "cell_type": "code",
      "execution_count": null,
      "metadata": {
        "id": "pdwtuzyUaVAv"
      },
      "outputs": [],
      "source": [
        "def lambertian(normals, light, color, intensity, mask):\n",
        "    \"\"\"\n",
        "    Implements the Lambertian model to compute the image given the normals,\n",
        "    light directions, color, intensity, and mask.\n",
        "    Inputs:\n",
        "    - normals: H x W x 3 array of surface normals\n",
        "    - light: 3-element array of light direction \n",
        "    - color: 3-element array of RGB color of the light\n",
        "    - intensity: intensity of the light\n",
        "    - mask: H x W binary mask (1 for object, 0 for background)\n",
        "    Outputs:\n",
        "    - image: H x W x 3 array of the rendered image\n",
        "    \"\"\"\n",
        "    #### Write your code here. ####\n",
        "    \n",
        "    return normalize(image)"
      ]
    },
    {
      "cell_type": "markdown",
      "metadata": {
        "id": "JK05EpdpaVAv"
      },
      "source": [
        "### 3.3 Blinn-Phong model [4 pts]"
      ]
    },
    {
      "cell_type": "markdown",
      "metadata": {
        "id": "vnpIXRlzaVAv"
      },
      "source": [
        "### Blinn-Phong Reflectance\n",
        "\n",
        "One major drawback of Lambertian reflectance is that it only considers the diffuse light in its calculation of\n",
        "brightness intensity. One other major component to reflectance rendering is the specular component. The\n",
        "specular reflectance is the component of light that is reflected in a single direction, as opposed to all directions,\n",
        "which is the case in diffuse reflectance. One of the most used models to compute surface brightness with specular\n",
        "components is the Blinn-Phong reflectance model. This model combines ambient lighting, diffused reflectance as well\n",
        "as specular reflectance to find the brightness on a surface. Blinn-Phong shading also considers the material in the scene\n",
        "which is characterized by four values: the ambient value $k_a(x,y)$ of the surface facet imaged by the pixel, the diffuse value $k_d(x,y)$ of the surface facet imaged by the pixel, the specular value $k_s(x,y)$ of the surface facet imaged by the pixel, and the shininess $\\alpha(x,y)$ of the surface facet imaged by the pixel. Furthermore,\n",
        "since the specular component produces ‘rays’, only some of which would be observed by a single observer, the\n",
        "observer’s unit viewing direction $\\hat{\\boldsymbol{\\mathrm{v}}}(x,y)$ must also be known. For some scene with known material parameters with $M$\n",
        "light sources the intensity of the light $e(x,y)$ reflected from light direction $\\hat{\\boldsymbol{\\mathrm{s}}}(x,y)$ to the surface facet with unit normal vector $\\hat{\\boldsymbol{\\mathrm{n}}}(x,y)$ seen from unit viewing direction $\\hat{\\boldsymbol{\\mathrm{v}}}(x,y)$ can be\n",
        "computed by:\n",
        "\n",
        "$$e(x,y) = \\sum_{m\\in M} s_a k_a(x,y) + s_m (k_d(x,y) f_d(x,y) + k_s(x,y) f_s(x,y)) \\text{,}$$\n",
        "\n",
        "$$f_d(x,y) = \\max(0, \\hat{\\boldsymbol{\\mathrm{n}}}(x,y)^\\top \\hat{\\boldsymbol{\\mathrm{s}}}(x,y)) \\text{, } f_s(x,y) = \\max(0, \\hat{\\boldsymbol{\\mathrm{n}}}(x,y)^\\top \\hat{\\boldsymbol{\\mathrm{h}}}(x,y))^{\\alpha(x,y)}$$\n",
        "\n",
        "$$\\hat{\\boldsymbol{\\mathrm{h}}}(x,y) = \\frac{1}{\\lVert\\boldsymbol{\\mathrm{h}}(x,y)\\rVert} \\boldsymbol{\\mathrm{h}}(x,y) \\text{, } \\boldsymbol{\\mathrm{h}}(x,y) = \\hat{\\boldsymbol{\\mathrm{s}}}(x,y) + \\hat{\\boldsymbol{\\mathrm{v}}}(x,y)$$\n",
        "\n",
        "where, for the $m$-th light source, $s_m$ is the light color multiplied with light intensity. $s_a$ is the ambient light color multiplied with ambient light intensity.\n",
        "\n",
        "Please fill in your implementation for the Blinn-Phong model below. This time you need to support multiple light sources."
      ]
    },
    {
      "cell_type": "code",
      "execution_count": null,
      "metadata": {
        "id": "9MOCr8jNaVAv"
      },
      "outputs": [],
      "source": [
        "def blinn_phong(normals, ambient, lights, colors, material, view, mask):\n",
        "    \"\"\"\n",
        "    Implements the Blinn-Phong model to compute the image given the normals, light directions,\n",
        "    colors, material properties, view direction, and mask.\n",
        "    Inputs:\n",
        "    - normals: H x W x 3 array of surface normals\n",
        "    - ambient: 3-element array of ambient light color\n",
        "    - lights: N x 3 array of light directions\n",
        "    - colors: N x 3 array of RGB colors of the lights\n",
        "    - material: 4-element array of material properties (ka, kd, ks, a)\n",
        "    - view: 3-element array of view direction\n",
        "    - mask: H x W binary mask (1 for object, 0 for background)\n",
        "    Outputs:\n",
        "    - image: H x W x 3 array of the rendered image\n",
        "    \"\"\"\n",
        "    #### Write your code here. ####\n",
        "    \n",
        "    return normalize(image)"
      ]
    },
    {
      "cell_type": "markdown",
      "metadata": {},
      "source": [
        "### 3.4 Render results [6 pts]"
      ]
    },
    {
      "cell_type": "markdown",
      "metadata": {},
      "source": [
        "In this part, you need to plot the rendered results for Lambertian and Blinn-Phong model. The tables below shows the light directions and materials you'll use.\n",
        "\n",
        "**Table 1:** Light Source Directions\n",
        "\n",
        "| Light | Direction | Color (RGB)  |\n",
        "| - | ----------- | ----- |\n",
        "| 1 | $(-0.5,0.5,0.5)^{\\top}$ | $(0.1,0.4,0.8)$ |\n",
        "| 2 | $(0.3,-0.2,0.5)^{\\top}$     | $(0.7,0.3,0.3)$ |\n",
        "\n",
        "**Table 2:** Material Coefficients\n",
        "\n",
        "| Mat | $k_a$ | $k_d$ | $k_s$ | $\\alpha$ |\n",
        "| - | -------- | ----- | ----- | -------- |\n",
        "| 1 | $0.1$ | $0.2$ | $0.6$ | $3$ |\n",
        "| 2 | $0.1$ | $0.6$ | $0.2$ | $3$ |\n",
        "| 3 | $0.1$ | $0.6$ | $0.6$ | $10$ |\n",
        "\n",
        "For **Lambertian model**, assume light intensity is 1. you're required to render 4 images for sphere (You don't care about materials here.):\n",
        "- Light Source 1, Diffuse Sphere\n",
        "- Light Source 2, Diffuse Sphere\n",
        "- Light Source 1, Original Sphere\n",
        "- Light Source 2, Original Sphere\n",
        "\n",
        "For **Blinn-Phong model**, Assume light intensity is 1, view direction is `[0,0,1]` and ambient light color is `[1, 1, 1]`. you need to render 9 images each for the diffuse pear and the original pear, corresponding to `[light1, light2, light1+light2]` and the `[material1, material2, material3]`. Therefore, in total, you will need $2×3×3=18$ images.\n"
      ]
    },
    {
      "cell_type": "code",
      "execution_count": null,
      "metadata": {},
      "outputs": [],
      "source": [
        "# Helper method to create subplot\n",
        "def add_sub_plot(figure, loc, text, img):\n",
        "    sub1 = figure.add_subplot(loc)\n",
        "    sub1.title.set_text(text)\n",
        "    sub1.imshow(img)"
      ]
    },
    {
      "cell_type": "code",
      "execution_count": null,
      "metadata": {
        "colab": {
          "base_uri": "https://localhost:8080/",
          "height": 1000
        },
        "id": "sqzymMHvaVAz",
        "outputId": "5693718c-2f20-4cc7-b32e-4b9f221e81f3"
      },
      "outputs": [],
      "source": [
        "##################################################\n",
        "# Don't modify this function\n",
        "##################################################\n",
        "def plot_lambertian(results, title):\n",
        "    figure = plt.figure(figsize=(2, 2))\n",
        "    figure.suptitle(title)\n",
        "    add_sub_plot(figure, 221, 'L1 | Diffuse', results[0])\n",
        "    add_sub_plot(figure, 222, 'L2 | Diffuse', results[1])\n",
        "    add_sub_plot(figure, 223, 'L1 | Original', results[2])\n",
        "    add_sub_plot(figure, 224, 'L2 | Original', results[3])\n",
        "    figure.tight_layout()\n",
        "    plt.show()\n",
        "\n",
        "##################################################\n",
        "# Don't modify this function\n",
        "##################################################\n",
        "def plot_blinnphong(results, title):\n",
        "    figure = plt.figure(figsize=(9, 9))\n",
        "    figure.suptitle(title)\n",
        "    add_sub_plot(figure, 331, 'L1 | M1', results[0])\n",
        "    add_sub_plot(figure, 332, 'L1 | M2', results[1])\n",
        "    add_sub_plot(figure, 333, 'L1 | M3', results[2])\n",
        "    add_sub_plot(figure, 334, 'L2 | M1', results[3])\n",
        "    add_sub_plot(figure, 335, 'L2 | M2', results[4])\n",
        "    add_sub_plot(figure, 336, 'L2 | M3', results[5])\n",
        "    add_sub_plot(figure, 337, 'L1+L2 | M1', results[6])\n",
        "    add_sub_plot(figure, 338, 'L1+L2 | M2', results[7])\n",
        "    add_sub_plot(figure, 339, 'L1+L2 | M3', results[8])\n",
        "    figure.tight_layout()\n",
        "    plt.show()\n",
        "\n"
      ]
    },
    {
      "cell_type": "code",
      "execution_count": null,
      "metadata": {
        "colab": {
          "base_uri": "https://localhost:8080/",
          "height": 1000
        },
        "id": "UMlSMq0UaVAz",
        "outputId": "e717a3e2-d4bc-498e-91cb-bf3002c7fb93"
      },
      "outputs": [],
      "source": [
        "\n",
        "\n",
        "#### Write your code here. ####\n",
        "results_sphere = []\n",
        "\n",
        "results_pear_diffuse = [] \n",
        "results_pear_original = []\n",
        "\n",
        "# Don't modify the following lines\n",
        "plot_lambertian(results_sphere, \"Lambertian Sphere\")\n",
        "plot_blinnphong(results_pear_diffuse, \"Blinn-Phong Pear - Diffuse\")\n",
        "plot_blinnphong(results_pear_original, \"Blinn-Phong Pear - Original\")\n"
      ]
    },
    {
      "cell_type": "markdown",
      "metadata": {
        "id": "r7KA3ZwdaVAz"
      },
      "source": [
        "## Problem 4: Photometric Stereo, Specularity Removal (20 pts)\n",
        "\n",
        "The goal of this problem is to implement a couple of different algorithms that reconstruct a surface using the concept of Lambertian photometric stereo. Additionally, you will implement the specular removal technique of [Mallick et al.](http://www.eecs.harvard.edu/~zickler/download/photodiff_cvpr05_preprint.pdf), which enables photometric stereo to be performed on certain non-Lambertian materials.\n",
        "\n",
        "You can assume a Lambertian reflectance function once specularities are removed. However, note that the albedo is unknown and non-constant in the images you will use.\n",
        "\n",
        "As input, your program should take in multiple images along with the light source direction for each image. Each image is associated with only a single light, and hence a single direction.\n",
        "\n",
        "### Data\n",
        "You will use synthetic images and specular sphere images as data. These images are stored in `.pickle` files which have been graciously provided by Satya Mallick. Each `.pickle` file contains\n",
        "\n",
        "* `im1`, `im2`, `im3`, `im4`, ... images.\n",
        "* `l1`, `l2`, `l3`, `l4`, ... light source directions."
      ]
    },
    {
      "cell_type": "markdown",
      "metadata": {
        "id": "eOHlWsHZaVAz"
      },
      "source": [
        "### 4.1: Lambertian Photometric Stereo [8 pts]\n",
        "\n",
        "Implement the photometric stereo technique described in the lecture. Your program should have two parts:\n",
        "\n",
        "1. Read in the images and corresponding light source directions, and estimate the surface normals and albedo map.\n",
        "\n",
        "1. Reconstruct the depth map from the surface normals. You should first try the naive scanline-based \"shape by integration\" method described in lecture. (You are required to implement this.) For comparison, you should also integrate using the Horn technique which is already implemented for you in the `horn_integrate` function. Note that for good results you will often want to run the `horn_integrate` function with 10000-100000 iterations, which will take a while. For your final submission, we will require that you run Horn integration for 10000 (ten thousand) iterations or more in each case. But for debugging, it is suggested that you keep the number of iterations low.\n",
        "\n",
        "You will find all the data for this part in `synthetic_data2.pickle`. Try using only `im1`, `im3` and `im4` first. Display your outputs as mentioned below.\n",
        "\n",
        "Then use all four images (most accurate).\n",
        "\n",
        "**Note:** **DO NOT** normalize the images prior to use in the photemetric stereo algorithm. the images must be used **as-is**.\n",
        "\n",
        "For **each** of the **two above cases** you must output:\n",
        "\n",
        "1. The estimated albedo map.\n",
        "\n",
        "1. The estimated surface normals by showing both\n",
        "    1. Needle map, and\n",
        "    1. Three images showing each of the surface normal components.\n",
        "\n",
        "1. A wireframe of the depth map given by the scanline method.\n",
        "\n",
        "1. A wireframe of the depth map given by Horn integration.\n",
        "\n",
        "In total, we expect 2 * 7 = 14 images for this part.\n",
        "\n",
        "An example of outputs is shown in the figure below. (The example outputs only include one depth map, although we expect two – see above.)\n",
        "\n",
        "<!--- ![Problem 4.1 example outputs](problem4_example.png) --->\n",
        "<!--- The previous results in export to pdf errors on some systems but the following does not --->\n",
        "<img src=\"problem4_example.png\">\n"
      ]
    },
    {
      "cell_type": "code",
      "execution_count": null,
      "metadata": {
        "colab": {
          "base_uri": "https://localhost:8080/",
          "height": 725
        },
        "id": "GE4g0ekvaVAz",
        "outputId": "2f69e3fd-8a68-4200-8a73-bccbedb778a2"
      },
      "outputs": [],
      "source": [
        "# Setup\n",
        "import pickle\n",
        "import numpy as np\n",
        "from time import time\n",
        "from skimage import io\n",
        "%matplotlib inline\n",
        "import matplotlib.pyplot as plt\n",
        "\n",
        "### Example: how to read and access data from a .pickle file\n",
        "pickle_in = open(\"synthetic_data2.pickle\", \"rb\")\n",
        "data = pickle.load(pickle_in, encoding=\"latin1\")\n",
        "\n",
        "# data is a dict which stores each element as a key-value pair.\n",
        "print(\"Keys: \", list(data.keys()))\n",
        "\n",
        "# To access the value of an entity, refer to it by its key.\n",
        "fig = plt.figure(figsize=(7,7))\n",
        "for i in range(1, 5):\n",
        "    sub = fig.add_subplot(int('22'+str(i)))\n",
        "    sub.set_title('Image ' + str(i))\n",
        "    sub.set_xlabel(\"Light source direction: \" + str(data[\"l%d\" % i]))\n",
        "    sub.imshow(data[\"im%d\" % i], cmap=\"gray\")\n",
        "plt.tight_layout()\n",
        "plt.show()"
      ]
    },
    {
      "cell_type": "markdown",
      "metadata": {
        "id": "MKZiKfhVaVAz"
      },
      "source": [
        "Based on the above images, can you interpret the orientation of the coordinate frame? We assume the $X$-axis **points to the right**, the $Y$-axis **points down**, and the $Z$-axis points out of the screen in our direction.\n",
        "\n",
        "_Note: as clarification, no direct response is needed for this cell._"
      ]
    },
    {
      "cell_type": "code",
      "execution_count": 19,
      "metadata": {
        "id": "Hqih9su3aVA0"
      },
      "outputs": [],
      "source": [
        "import numpy as np\n",
        "from scipy.signal import convolve\n",
        "from numpy import linalg\n",
        "\n",
        "#######################################################\n",
        "# Do not modify\n",
        "#######################################################\n",
        "def horn_integrate(p, q, mask, niter):\n",
        "    \"\"\"\n",
        "    horn_integrate recovers the function g from its partial\n",
        "    derivatives p and q.\n",
        "    p:      the partial derivatives along the horizontal direction, positive axis to the right\n",
        "    q:      the partial derivatives along the vertical direction, positive axis down\n",
        "    mask:   a binary image which tells which pixels are involved in integration.\n",
        "    niter:  the number of iterations. typically 10,000 or 100,000,\n",
        "            although the trend can be seen even after 1000 iterations.\n",
        "    \"\"\"\n",
        "    g = np.ones(np.shape(p))\n",
        "\n",
        "    p = np.multiply(p, mask)\n",
        "    q = np.multiply(q, mask)\n",
        "\n",
        "    # A = np.array([[0,0,0],[0,0,0],[0,1,0]]) #y-1\n",
        "    # B = np.array([[0,0,0],[0,0,1],[0,0,0]]) #x-1\n",
        "    # C = np.array([[0,0,0],[1,0,0],[0,0,0]]) #x+1\n",
        "    # D = np.array([[0,1,0],[0,0,0],[0,0,0]]) #y+1\n",
        "    A = np.array([[0,1,0],[0,0,0],[0,0,0]]) #y-1\n",
        "    B = np.array([[0,0,0],[1,0,0],[0,0,0]]) #x-1\n",
        "    C = np.array([[0,0,0],[0,0,1],[0,0,0]]) #x+1\n",
        "    D = np.array([[0,0,0],[0,0,0],[0,1,0]]) #y+1\n",
        "\n",
        "    d_mask = A + B + C + D\n",
        "\n",
        "    den = np.multiply(convolve(mask,d_mask,mode=\"same\"),mask)\n",
        "    den[den == 0] = 1\n",
        "    rden = 1.0 / den\n",
        "    mask2 = np.multiply(rden, mask)\n",
        "\n",
        "    m_a = convolve(mask, A, mode=\"same\")\n",
        "    m_b = convolve(mask, B, mode=\"same\")\n",
        "    m_c = convolve(mask, C, mode=\"same\")\n",
        "    m_d = convolve(mask, D, mode=\"same\")\n",
        "\n",
        "    term_right = np.multiply(m_c, p) + np.multiply(m_d, q)\n",
        "    t_a = -1.0 * convolve(p, B, mode=\"same\")\n",
        "    t_b = -1.0 * convolve(q, A, mode=\"same\")\n",
        "    term_right = term_right + t_a + t_b\n",
        "    term_right = np.multiply(mask2, term_right)\n",
        "\n",
        "    for k in range(niter):\n",
        "        g = np.multiply(mask2, convolve(g, d_mask, mode=\"same\")) + term_right\n",
        "\n",
        "    g -= np.min(g)\n",
        "    g *= mask\n",
        "    return g"
      ]
    },
    {
      "cell_type": "code",
      "execution_count": 20,
      "metadata": {
        "id": "BmjN77zbaVA0"
      },
      "outputs": [],
      "source": [
        "'''Function to compute the albedo, normals,\n",
        "    and height map using the photometric stereo\n",
        "    method & horn integration'''\n",
        "def photometric_stereo(images, lights, mask, horn_niter=25000):\n",
        "    \"\"\"\n",
        "    inputs:\n",
        "\n",
        "    images : (n_ims, h, w) photometric images. Input images should not be normalized to [0, 1] \n",
        "            range, use as-is. \n",
        "    lights : (n_ims, 3) light source directions\n",
        "    mask   : (h, w) mask is an optional parameter which you are encouraged to use.\n",
        "    It can be used e.g. to ignore the background when integrating the normals.\n",
        "    It should be created by converting the images to grayscale, averaging them,\n",
        "    normalizing to [0, 1] and thresholding (only using locations for which the\n",
        "    pixel value is above some threshold).\n",
        "\n",
        "    The choice of threshold is something you can experiment with,\n",
        "    but in practice something like 0.05 or 0.1 tends to work well.\n",
        "\n",
        "    You do not need to use the mask for Part 1 (it shouldn't matter, just pass a mask of all ones),\n",
        "    but you SHOULD use it to filter out the background for Part 3.\n",
        "    \n",
        "    outputs:\n",
        "    \n",
        "    albedo:   (h, w)  The estimated albedo map.\n",
        "    normals:  (h, w, 3) The estimated surface normals\n",
        "    H:        (h, w)  The depth map given by the scanline method.\n",
        "    H_horn:   (h, w)  The depth map given by Horn integration.\n",
        "    \"\"\"\n",
        "\n",
        "    #### Write your code here. ####\n",
        "\n",
        "    albedo = np.ones(images[0].shape)\n",
        "    normals = np.dstack((np.zeros(images[0].shape),\n",
        "                         np.zeros(images[0].shape),\n",
        "                         np.ones(images[0].shape)))\n",
        "    H = np.ones(images[0].shape)\n",
        "    H_horn = np.ones(images[0].shape)\n",
        "\n",
        "    return albedo, normals, H, H_horn"
      ]
    },
    {
      "cell_type": "code",
      "execution_count": 21,
      "metadata": {
        "id": "MR66EmPcaVA0"
      },
      "outputs": [],
      "source": [
        "# --------------------------------------------------------------------------\n",
        "# The following code is just a working example so you don't get stuck with any\n",
        "# of the graphs required. You may want to write your own code to align the\n",
        "# results in a better layout. You are also free to change the function\n",
        "# however you wish; just make sure you get all of the required outputs.\n",
        "# --------------------------------------------------------------------------\n",
        "\n",
        "def visualize(albedo, normals, depth, horn, imtitle='', stride = 15):\n",
        "    # showing albedo map\n",
        "    fig = plt.figure(figsize=(12,10))\n",
        "    albedo_max = albedo.max()\n",
        "    albedo = albedo / albedo_max\n",
        "    ax0 = fig.add_subplot(231)\n",
        "    ax0.set_title(\"Albedo\")\n",
        "    ax0.imshow(albedo, cmap=\"gray\")\n",
        "\n",
        "    # showing normals as three separate channels\n",
        "    ax1 = fig.add_subplot(253)\n",
        "    fig.colorbar(ax1.imshow(normals[..., 0],cmap='bwr'), ax=ax1, orientation='horizontal')\n",
        "    ax2 = fig.add_subplot(254)\n",
        "    ax2.set_title(\"Normals as 3 separate channels.\")\n",
        "    fig.colorbar(ax2.imshow(normals[..., 1],cmap='bwr'), ax=ax2, orientation='horizontal')\n",
        "    ax3 = fig.add_subplot(255)\n",
        "    fig.colorbar(ax3.imshow(normals[..., 2],cmap='bwr'), ax=ax3, orientation='horizontal')\n",
        "\n",
        "    # showing normals as quiver\n",
        "    X, Y, _ = np.meshgrid(np.arange(0,np.shape(normals)[1], stride),\n",
        "                          np.arange(0,np.shape(normals)[0], stride),\n",
        "                          np.arange(1))\n",
        "    X = X[..., 0]\n",
        "    Y = Y[..., 0]\n",
        "    Z = depth[::stride,::stride]\n",
        "    NX = normals[..., 0][::stride,::stride]\n",
        "    NY = normals[..., 1][::stride,::stride]\n",
        "    NZ = normals[..., 2][::stride,::stride]\n",
        "\n",
        "    ax4 = fig.add_subplot(234, projection='3d')\n",
        "    ax4.set_title(\"Needle map\")\n",
        "    ax4.quiver(X,Y,Z,NX,NY,NZ, length=15, color='lightskyblue')\n",
        "\n",
        "    # plotting wireframe depth map\n",
        "    H = depth[::stride,::stride]\n",
        "    ax5 = fig.add_subplot(235, projection='3d')\n",
        "    ax5.set_title(\"Wireframe - PS\")\n",
        "    ax5.plot_surface(X,Y, H, color='lightskyblue')\n",
        "\n",
        "    H = horn[::stride,::stride]\n",
        "    ax6 = fig.add_subplot(236,projection='3d')\n",
        "    ax6.set_title(\"Wireframe - HORN\")\n",
        "    ax6.plot_surface(X,Y, H, color='lightskyblue')\n",
        "    fig.suptitle(imtitle)\n",
        "    plt.show()"
      ]
    },
    {
      "cell_type": "code",
      "execution_count": null,
      "metadata": {
        "colab": {
          "base_uri": "https://localhost:8080/",
          "height": 887
        },
        "id": "rv4W4Wd6aVA0",
        "outputId": "0e55e7fa-67ae-4a1f-be5d-82f66637a2c0"
      },
      "outputs": [],
      "source": [
        "## In total, we expect 2 * 7 = 14 images for this part.\n",
        "## Set-1: USING ONLY im1, im3, im4\n",
        "#### Write your code here. ####\n",
        "lights = \n",
        "\n",
        "images = []\n",
        "\n",
        "mask = \n",
        "\n",
        "albedo, normals, depth, horn = photometric_stereo(images, lights, mask, 10000)\n",
        "visualize(albedo, normals, depth, horn, \"Photometric Stereo - Synthetic data (3 images)\", 5)"
      ]
    },
    {
      "cell_type": "code",
      "execution_count": null,
      "metadata": {
        "colab": {
          "base_uri": "https://localhost:8080/",
          "height": 887
        },
        "id": "jPef6imXaVA0",
        "outputId": "b6fbabf9-7b99-4b3c-ce10-d5be4ba284c3"
      },
      "outputs": [],
      "source": [
        "## Set-2: USING im1, im2, im3, im4\n",
        "\n",
        "#### Write your code here. ####\n"
      ]
    },
    {
      "cell_type": "markdown",
      "metadata": {
        "id": "hbFyZp6FaVA0"
      },
      "source": [
        "### 4.2: Specularity Removal [6 pts]\n",
        "\n",
        "Implement the specularity removal technique described in *Beyond Lambert: Reconstructing Specular Surfaces Using Color* (by Mallick, Zickler, Kriegman, and Belhumeur; CVPR 2005).\n",
        "\n",
        "Your program should input an RGB image and light source color and output the corresponding SUV image.  \n",
        "\n",
        "Try this out first with the specular sphere images and then with the pear images.  \n",
        "  \n",
        "For each of the specular sphere and pear images, include\n",
        "\n",
        "1. The original image (in RGB colorspace).\n",
        "\n",
        "1. The recovered $S$ channel of the image.\n",
        "\n",
        "1. The recovered diffuse part of the image. Use $D = \\sqrt{U^2+V^2}$ to represent the diffuse part.\n",
        "\n",
        "In total, we expect 2 * 3 = 6 images as outputs for this problem.\n",
        "\n",
        "Note: You will find all the data for this part in `specular_sphere2.pickle` and `specular_pear2.pickle`."
      ]
    },
    {
      "cell_type": "code",
      "execution_count": null,
      "metadata": {
        "colab": {
          "base_uri": "https://localhost:8080/",
          "height": 662
        },
        "id": "2chQ08svaVA1",
        "outputId": "dba356bc-01a3-488d-e2bd-cc75f9c33adb"
      },
      "outputs": [],
      "source": [
        "#######################################################\n",
        "# Do not modify\n",
        "#######################################################\n",
        "def get_rot_mat(rot_v, unit=None):\n",
        "    '''\n",
        "    Takes a vector and returns the rotation matrix required to align the\n",
        "    unit vector(2nd arg) to it.\n",
        "    '''\n",
        "    if unit is None:\n",
        "        unit = [1.0, 0.0, 0.0]\n",
        "\n",
        "    rot_v = rot_v/np.linalg.norm(rot_v)\n",
        "    uvw = np.cross(rot_v, unit) # axis of rotation\n",
        "\n",
        "    rcos = np.dot(rot_v, unit) # cos by dot product\n",
        "    rsin = np.linalg.norm(uvw) # sin by magnitude of cross product\n",
        "\n",
        "    # normalize and unpack axis\n",
        "    if not np.isclose(rsin, 0):\n",
        "        uvw = uvw/rsin\n",
        "    u, v, w = uvw\n",
        "\n",
        "    # compute rotation matrix\n",
        "    R = (\n",
        "        rcos * np.eye(3) +\n",
        "        rsin * np.array([\n",
        "            [ 0, -w,  v],\n",
        "            [ w,  0, -u],\n",
        "            [-v,  u,  0]\n",
        "        ]) +\n",
        "        (1.0 - rcos) * uvw[:,None] * uvw[None,:]\n",
        "    )\n",
        "    return R"
      ]
    },
    {
      "cell_type": "code",
      "execution_count": null,
      "metadata": {},
      "outputs": [],
      "source": [
        "def RGBToSUV(I_rgb, rot_vec):\n",
        "    '''\n",
        "    Your implementation which takes an RGB image and a vector encoding\n",
        "    the orientation of the S channel w.r.t. to RGB.\n",
        "    '''\n",
        "    #### Write your code here. ####\n",
        "\n",
        "    S = np.ones(I_rgb.shape[:2])\n",
        "    D = np.ones(I_rgb.shape[:2])\n",
        "    return S, D\n"
      ]
    },
    {
      "cell_type": "code",
      "execution_count": null,
      "metadata": {},
      "outputs": [],
      "source": [
        "# plot the original image(RGB), the recovered S channel and \n",
        "# the diffuse part of the image for sphere and pear\n",
        "\n",
        "def plot_RGB_SUV(filename, imtitle):\n",
        "    pickle_in = open(filename, \"rb\")\n",
        "    data = pickle.load(pickle_in, encoding=\"latin1\")\n",
        "    #### Write your code here. ####\n",
        "    \n",
        "    plt.show()\n",
        "\n",
        "plot_RGB_SUV(\"specular_sphere2.pickle\", 'SPECULAR SPHERE')\n",
        "plot_RGB_SUV(\"specular_pear2.pickle\", 'SPECULAR PEAR')"
      ]
    },
    {
      "cell_type": "markdown",
      "metadata": {
        "id": "s_hfmCUHaVA1"
      },
      "source": [
        "### 4.3: Robust Photometric Stereo [6 pts]\n",
        "\n",
        "Now we will perform photometric stereo on our sphere/pear images which include specularities. First, for comparison, run your photometric stereo code from **Part 1** on the original images (converted to grayscale using the equation in Assignment 0). You should notice erroneous \"bumps\" in the resulting reconstructions, as a result of violating the Lambertian assumption. For this, show the same outputs as in **Part 1**.\n",
        "\n",
        "Next, combine parts 1 and 2 by removing the specularities (using your code from **Part 2**) and then running photometric stereo on the diffuse components of the specular sphere/pear images. Our goal will be to remove the bumps/sharp parts in the reconstruction.\n",
        "\n",
        "**Note:** While creating the masks, please use $0.15$ as your threshold for the sphere and $0.1$ for the pear. **DO NOT** \"normalize\" or ortherwise modify the images prior to use in the photometric stereo algorithm. The images must be used **as-is**.\n",
        "\n",
        "For the specular sphere image set in `specular_sphere2.pickle` and specular pear images set in `specular_pear2.pickle`, using all of four images in each, include:\n",
        "\n",
        "1. The estimated albedo map (original and diffuse).\n",
        "\n",
        "1. The estimated surface normals (original and diffuse) by showing both\n",
        "\n",
        "    1. Needle map, and\n",
        "    1. Three images showing each of the surface normal components.\n",
        "    \n",
        "1. A wireframe of depth map (original and diffuse).\n",
        "\n",
        "1. A wireframe of the depth map given by Horn integration (original and diffuse).\n",
        "\n",
        "In total, we expect 2 \\* 7 = 14 images for the **Part 1** comparison, plus 2 \\* 7 = 14 images for the outputs after specularity removal has been performed. (Thus 28 output images overall.)"
      ]
    },
    {
      "cell_type": "code",
      "execution_count": null,
      "metadata": {
        "colab": {
          "base_uri": "https://localhost:8080/",
          "height": 1000
        },
        "id": "fr92bne3aVA1",
        "outputId": "0b7fa4ea-28ac-4f2e-9a06-6036edaa04bd"
      },
      "outputs": [],
      "source": [
        "# ---------------------------------------------------------------------------\n",
        "# You may reuse the code for photometric_stereo here.\n",
        "# Write your code below to process the data and send it to photometric_stereo\n",
        "# and display the albedo, normals, and depth maps.\n",
        "# ---------------------------------------------------------------------------\n",
        "\n",
        "pickle_in = open(\"specular_sphere2.pickle\", \"rb\")\n",
        "data = pickle.load(pickle_in, encoding=\"latin1\")\n",
        "#### Write your code here. ####\n",
        "#Specular Sphere\n",
        "\n",
        "#Sphere with specularities removed.\n"
      ]
    },
    {
      "cell_type": "code",
      "execution_count": null,
      "metadata": {
        "colab": {
          "base_uri": "https://localhost:8080/",
          "height": 1000
        },
        "id": "vPF53HZhaVA1",
        "outputId": "ab7eec9c-db47-4b2d-d618-d1037c77239e"
      },
      "outputs": [],
      "source": [
        "pickle_in = open(\"specular_pear2.pickle\", \"rb\")\n",
        "data = pickle.load(pickle_in, encoding=\"latin1\")\n",
        "#### Write your code here. ####\n",
        "\n",
        "#Specular Pear\n",
        "\n",
        "#Pear with specularities removed.\n"
      ]
    }
  ],
  "metadata": {
    "colab": {
      "provenance": []
    },
    "kernelspec": {
      "display_name": "computer-vision",
      "language": "python",
      "name": "python3"
    },
    "language_info": {
      "codemirror_mode": {
        "name": "ipython",
        "version": 3
      },
      "file_extension": ".py",
      "mimetype": "text/x-python",
      "name": "python",
      "nbconvert_exporter": "python",
      "pygments_lexer": "ipython3",
      "version": "3.9.18"
    }
  },
  "nbformat": 4,
  "nbformat_minor": 0
}
